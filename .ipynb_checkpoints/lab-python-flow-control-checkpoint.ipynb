{
 "cells": [
  {
   "cell_type": "markdown",
   "id": "d3bfc191-8885-42ee-b0a0-bbab867c6f9f",
   "metadata": {
    "tags": []
   },
   "source": [
    "# Lab | Flow Control"
   ]
  },
  {
   "cell_type": "markdown",
   "id": "3851fcd1-cf98-4653-9c89-e003b7ec9400",
   "metadata": {},
   "source": [
    "## Exercise: Managing Customer Orders Optimized\n",
    "\n",
    "In the last lab, you were starting an online store that sells various products. To ensure smooth operations, you developed a program that manages customer orders and inventory.\n",
    "\n",
    "You did so without using flow control. Let's go a step further and improve this code.\n",
    "\n",
    "Follow the steps below to complete the exercise:\n",
    "\n",
    "1. Look at your code from the lab data structures, and improve repeated code with loops.\n",
    "\n",
    "2. Instead of asking the user to input the name of three products that a customer wants to order, do the following:\n",
    "    \n",
    "    a. Prompt the user to enter the name of a product that a customer wants to order.\n",
    "    \n",
    "    b. Add the product name to the \"customer_orders\" set.\n",
    "    \n",
    "    c. Ask the user if they want to add another product (yes/no).\n",
    "    \n",
    "    d. Continue the loop until the user does not want to add another product.\n",
    "\n",
    "3. Instead of updating the inventory by subtracting 1 from the quantity of each product, only do it for  the products that were ordered (those in \"customer_orders\").\n",
    "\n",
    "\n"
   ]
  },
  {
   "cell_type": "code",
   "execution_count": 89,
   "id": "27aeb811-d6c8-4444-942e-412c507b0439",
   "metadata": {},
   "outputs": [
    {
     "ename": "SyntaxError",
     "evalue": "cannot assign to function call here. Maybe you meant '==' instead of '='? (2226303778.py, line 21)",
     "output_type": "error",
     "traceback": [
      "\u001b[1;36m  Cell \u001b[1;32mIn[89], line 21\u001b[1;36m\u001b[0m\n\u001b[1;33m    updated_inventory(add_product_to_list(customer_orders)) = value - customer_orders.count(n)\u001b[0m\n\u001b[1;37m    ^\u001b[0m\n\u001b[1;31mSyntaxError\u001b[0m\u001b[1;31m:\u001b[0m cannot assign to function call here. Maybe you meant '==' instead of '='?\n"
     ]
    }
   ],
   "source": [
    "#Q2\n",
    "\n",
    "inventory = {\"t-shirt\": 4,\"mug\": 5,\"hat\": 6,\"book\" : 1, \"keychain\": 2}\n",
    "\n",
    "def add_product_to_list(customer_orders):\n",
    "    product = input(\"Ajouter 1 produit de la liste de produits\")\n",
    "    if product in inventory:\n",
    "        customer_orders.append(product)\n",
    "    else: \n",
    "        print(\"Choix invalide. Veuillez choisir une option valide.\")  \n",
    "\n",
    "\n",
    "looping_answers = True\n",
    "customer_orders = []\n",
    "updated_inventory = {}\n",
    "\n",
    "\n",
    "while looping_answers: \n",
    "    add_product_to_list(customer_orders)\n",
    "    for key, value in inventory():\n",
    "        updated_inventory[key] = value - customer_orders.count(n)\n",
    "        print(f\"{key}: {value- customer_orders.count(n)}\")\n",
    "    looping_answers = input(\"Voulez vous ajouter un produit ? oui/non\").strip().lower()\n",
    "    if looping_answers == \"oui\":\n",
    "        looping_answers = True\n",
    "    else:\n",
    "        looping_answers = False\n",
    "\n",
    "\n",
    "\n",
    "print (customer_orders)\n"
   ]
  },
  {
   "cell_type": "code",
   "execution_count": null,
   "id": "7e227a05-ed7f-43e6-8b58-8d68889cfd80",
   "metadata": {},
   "outputs": [],
   "source": []
  },
  {
   "cell_type": "code",
   "execution_count": null,
   "id": "530aefd9-4d59-4153-a75a-919b8593d446",
   "metadata": {},
   "outputs": [],
   "source": []
  }
 ],
 "metadata": {
  "kernelspec": {
   "display_name": "Python 3 (ipykernel)",
   "language": "python",
   "name": "python3"
  },
  "language_info": {
   "codemirror_mode": {
    "name": "ipython",
    "version": 3
   },
   "file_extension": ".py",
   "mimetype": "text/x-python",
   "name": "python",
   "nbconvert_exporter": "python",
   "pygments_lexer": "ipython3",
   "version": "3.12.4"
  }
 },
 "nbformat": 4,
 "nbformat_minor": 5
}
